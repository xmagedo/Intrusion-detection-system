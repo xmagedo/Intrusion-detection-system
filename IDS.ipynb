{
 "cells": [
  {
   "cell_type": "code",
   "execution_count": 27,
   "metadata": {},
   "outputs": [],
   "source": [
    "import pandas as pd \n",
    "import numpy as np \n",
    "import matplotlib.pyplot as plt\n",
    "import matplotlib as mpl\n",
    "plt.style.use(\"ggplot\")\n",
    "%matplotlib inline\n",
    "\n",
    "\n",
    "df = pd.read_csv(\"/Users/abdulmajeedalroumi/Desktop/Network Behavior anomaly Detection/kddcup_corrected_subset.csv\")"
   ]
  },
  {
   "cell_type": "code",
   "execution_count": 3,
   "metadata": {},
   "outputs": [
    {
     "data": {
      "text/html": [
       "<div>\n",
       "<style scoped>\n",
       "    .dataframe tbody tr th:only-of-type {\n",
       "        vertical-align: middle;\n",
       "    }\n",
       "\n",
       "    .dataframe tbody tr th {\n",
       "        vertical-align: top;\n",
       "    }\n",
       "\n",
       "    .dataframe thead th {\n",
       "        text-align: right;\n",
       "    }\n",
       "</style>\n",
       "<table border=\"1\" class=\"dataframe\">\n",
       "  <thead>\n",
       "    <tr style=\"text-align: right;\">\n",
       "      <th></th>\n",
       "      <th>duration</th>\n",
       "      <th>\"protocol_type\"</th>\n",
       "      <th>\"flag\"</th>\n",
       "      <th>\"src_bytes\"</th>\n",
       "      <th>\"dst_bytes\"</th>\n",
       "      <th>\"land\"</th>\n",
       "      <th>\"wrong_fragment\"</th>\n",
       "      <th>\"urgent\"</th>\n",
       "      <th>hot</th>\n",
       "      <th>\"num_failed_logins\"</th>\n",
       "      <th>...</th>\n",
       "      <th>\"dst_host_srv_count\"</th>\n",
       "      <th>\"dst_host_same_srv_rate\"</th>\n",
       "      <th>\"dst_host_diff_srv_rate\"</th>\n",
       "      <th>\"dst_host_same_src_port_rate\"</th>\n",
       "      <th>\"dst_host_srv_diff_host_rate\"</th>\n",
       "      <th>dst_host_serror_rate</th>\n",
       "      <th>\"dst_host_srv_serror_rate\"</th>\n",
       "      <th>\"dst_host_rerror_rate\"</th>\n",
       "      <th>\"dst_host_srv_rerror_rate\"</th>\n",
       "      <th>label</th>\n",
       "    </tr>\n",
       "  </thead>\n",
       "  <tbody>\n",
       "    <tr>\n",
       "      <th>0</th>\n",
       "      <td>0</td>\n",
       "      <td>tcp</td>\n",
       "      <td>SF</td>\n",
       "      <td>223</td>\n",
       "      <td>185</td>\n",
       "      <td>0</td>\n",
       "      <td>0</td>\n",
       "      <td>0</td>\n",
       "      <td>0</td>\n",
       "      <td>0</td>\n",
       "      <td>...</td>\n",
       "      <td>255</td>\n",
       "      <td>1</td>\n",
       "      <td>0</td>\n",
       "      <td>1</td>\n",
       "      <td>1</td>\n",
       "      <td>0</td>\n",
       "      <td>0</td>\n",
       "      <td>0</td>\n",
       "      <td>0</td>\n",
       "      <td>normal</td>\n",
       "    </tr>\n",
       "    <tr>\n",
       "      <th>1</th>\n",
       "      <td>0</td>\n",
       "      <td>tcp</td>\n",
       "      <td>SF</td>\n",
       "      <td>230</td>\n",
       "      <td>260</td>\n",
       "      <td>0</td>\n",
       "      <td>0</td>\n",
       "      <td>0</td>\n",
       "      <td>0</td>\n",
       "      <td>0</td>\n",
       "      <td>...</td>\n",
       "      <td>255</td>\n",
       "      <td>1</td>\n",
       "      <td>0</td>\n",
       "      <td>33</td>\n",
       "      <td>7</td>\n",
       "      <td>33</td>\n",
       "      <td>0</td>\n",
       "      <td>0</td>\n",
       "      <td>0</td>\n",
       "      <td>normal</td>\n",
       "    </tr>\n",
       "    <tr>\n",
       "      <th>2</th>\n",
       "      <td>0</td>\n",
       "      <td>tcp</td>\n",
       "      <td>SF</td>\n",
       "      <td>297</td>\n",
       "      <td>13787</td>\n",
       "      <td>0</td>\n",
       "      <td>0</td>\n",
       "      <td>0</td>\n",
       "      <td>0</td>\n",
       "      <td>0</td>\n",
       "      <td>...</td>\n",
       "      <td>255</td>\n",
       "      <td>1</td>\n",
       "      <td>0</td>\n",
       "      <td>1</td>\n",
       "      <td>1</td>\n",
       "      <td>0</td>\n",
       "      <td>0</td>\n",
       "      <td>0</td>\n",
       "      <td>0</td>\n",
       "      <td>normal</td>\n",
       "    </tr>\n",
       "    <tr>\n",
       "      <th>3</th>\n",
       "      <td>0</td>\n",
       "      <td>tcp</td>\n",
       "      <td>SF</td>\n",
       "      <td>291</td>\n",
       "      <td>3542</td>\n",
       "      <td>0</td>\n",
       "      <td>0</td>\n",
       "      <td>0</td>\n",
       "      <td>0</td>\n",
       "      <td>0</td>\n",
       "      <td>...</td>\n",
       "      <td>255</td>\n",
       "      <td>1</td>\n",
       "      <td>0</td>\n",
       "      <td>1</td>\n",
       "      <td>1</td>\n",
       "      <td>0</td>\n",
       "      <td>0</td>\n",
       "      <td>0</td>\n",
       "      <td>0</td>\n",
       "      <td>normal</td>\n",
       "    </tr>\n",
       "    <tr>\n",
       "      <th>4</th>\n",
       "      <td>0</td>\n",
       "      <td>tcp</td>\n",
       "      <td>SF</td>\n",
       "      <td>295</td>\n",
       "      <td>753</td>\n",
       "      <td>0</td>\n",
       "      <td>0</td>\n",
       "      <td>0</td>\n",
       "      <td>0</td>\n",
       "      <td>0</td>\n",
       "      <td>...</td>\n",
       "      <td>255</td>\n",
       "      <td>1</td>\n",
       "      <td>0</td>\n",
       "      <td>1</td>\n",
       "      <td>1</td>\n",
       "      <td>0</td>\n",
       "      <td>0</td>\n",
       "      <td>0</td>\n",
       "      <td>0</td>\n",
       "      <td>normal</td>\n",
       "    </tr>\n",
       "  </tbody>\n",
       "</table>\n",
       "<p>5 rows × 41 columns</p>\n",
       "</div>"
      ],
      "text/plain": [
       "   duration  \"protocol_type\"  \"flag\"   \"src_bytes\"   \"dst_bytes\"   \"land\"  \\\n",
       "0         0              tcp      SF           223           185        0   \n",
       "1         0              tcp      SF           230           260        0   \n",
       "2         0              tcp      SF           297         13787        0   \n",
       "3         0              tcp      SF           291          3542        0   \n",
       "4         0              tcp      SF           295           753        0   \n",
       "\n",
       "    \"wrong_fragment\"   \"urgent\"  hot   \"num_failed_logins\"  ...  \\\n",
       "0                  0          0    0                     0  ...   \n",
       "1                  0          0    0                     0  ...   \n",
       "2                  0          0    0                     0  ...   \n",
       "3                  0          0    0                     0  ...   \n",
       "4                  0          0    0                     0  ...   \n",
       "\n",
       "    \"dst_host_srv_count\"   \"dst_host_same_srv_rate\"  \\\n",
       "0                    255                          1   \n",
       "1                    255                          1   \n",
       "2                    255                          1   \n",
       "3                    255                          1   \n",
       "4                    255                          1   \n",
       "\n",
       "    \"dst_host_diff_srv_rate\"   \"dst_host_same_src_port_rate\"  \\\n",
       "0                          0                               1   \n",
       "1                          0                              33   \n",
       "2                          0                               1   \n",
       "3                          0                               1   \n",
       "4                          0                               1   \n",
       "\n",
       "    \"dst_host_srv_diff_host_rate\"  dst_host_serror_rate  \\\n",
       "0                               1                     0   \n",
       "1                               7                    33   \n",
       "2                               1                     0   \n",
       "3                               1                     0   \n",
       "4                               1                     0   \n",
       "\n",
       "    \"dst_host_srv_serror_rate\"   \"dst_host_rerror_rate\"  \\\n",
       "0                            0                        0   \n",
       "1                            0                        0   \n",
       "2                            0                        0   \n",
       "3                            0                        0   \n",
       "4                            0                        0   \n",
       "\n",
       "    \"dst_host_srv_rerror_rate\"   label  \n",
       "0                            0  normal  \n",
       "1                            0  normal  \n",
       "2                            0  normal  \n",
       "3                            0  normal  \n",
       "4                            0  normal  \n",
       "\n",
       "[5 rows x 41 columns]"
      ]
     },
     "execution_count": 3,
     "metadata": {},
     "output_type": "execute_result"
    }
   ],
   "source": [
    "df.head()"
   ]
  },
  {
   "cell_type": "code",
   "execution_count": 4,
   "metadata": {},
   "outputs": [
    {
     "data": {
      "text/plain": [
       "(41237, 41)"
      ]
     },
     "execution_count": 4,
     "metadata": {},
     "output_type": "execute_result"
    }
   ],
   "source": [
    "df.shape"
   ]
  },
  {
   "cell_type": "code",
   "execution_count": 5,
   "metadata": {},
   "outputs": [
    {
     "name": "stdout",
     "output_type": "stream",
     "text": [
      "<class 'pandas.core.frame.DataFrame'>\n",
      "RangeIndex: 41237 entries, 0 to 41236\n",
      "Data columns (total 41 columns):\n",
      "duration                          41237 non-null int64\n",
      " \"protocol_type\"                  41237 non-null object\n",
      " \"flag\"                           41237 non-null object\n",
      " \"src_bytes\"                      41237 non-null int64\n",
      " \"dst_bytes\"                      41237 non-null int64\n",
      " \"land\"                           41237 non-null int64\n",
      " \"wrong_fragment\"                 41237 non-null int64\n",
      " \"urgent\"                         41237 non-null int64\n",
      "hot                               41237 non-null int64\n",
      " \"num_failed_logins\"              41237 non-null int64\n",
      " \"logged_in\"                      41237 non-null int64\n",
      " \"num_compromised\"                41237 non-null int64\n",
      " \"root_shell\"                     41237 non-null int64\n",
      " \"su_attempted\"                   41237 non-null int64\n",
      " \"num_root\"                       41237 non-null int64\n",
      " \"num_file_creations\"             41237 non-null int64\n",
      " \"num_shells\"                     41237 non-null int64\n",
      " \"num_access_files\"               41237 non-null int64\n",
      " \"num_outbound_cmds\"              41237 non-null int64\n",
      " \"is_host_login\"                  41237 non-null int64\n",
      "is_guest_login                    41237 non-null int64\n",
      " \"count\"                          41237 non-null int64\n",
      " \"srv_count\"                      41237 non-null int64\n",
      " \"serror_rate\"                    41237 non-null int64\n",
      " \"srv_serror_rate\"                41237 non-null int64\n",
      " \"rerror_rate\"                    41237 non-null int64\n",
      " \"srv_rerror_rate\"                41237 non-null int64\n",
      "same_srv_rate                     41237 non-null int64\n",
      " \"diff_srv_rate\"                  41237 non-null int64\n",
      " \"srv_diff_host_rate\"             41237 non-null int64\n",
      " \"dst_host_count\"                 41237 non-null int64\n",
      " \"dst_host_srv_count\"             41237 non-null int64\n",
      " \"dst_host_same_srv_rate\"         41237 non-null int64\n",
      " \"dst_host_diff_srv_rate\"         41237 non-null int64\n",
      " \"dst_host_same_src_port_rate\"    41237 non-null int64\n",
      " \"dst_host_srv_diff_host_rate\"    41237 non-null int64\n",
      "dst_host_serror_rate              41237 non-null int64\n",
      " \"dst_host_srv_serror_rate\"       41237 non-null int64\n",
      " \"dst_host_rerror_rate\"           41237 non-null int64\n",
      " \"dst_host_srv_rerror_rate\"       41237 non-null int64\n",
      "label                             41237 non-null object\n",
      "dtypes: int64(38), object(3)\n",
      "memory usage: 12.9+ MB\n"
     ]
    }
   ],
   "source": [
    "df.info()"
   ]
  },
  {
   "cell_type": "code",
   "execution_count": 6,
   "metadata": {},
   "outputs": [
    {
     "data": {
      "text/plain": [
       "Counter({'normal': 39247,\n",
       "         'apache2': 794,\n",
       "         'phf': 2,\n",
       "         'back': 1098,\n",
       "         'neptune': 93,\n",
       "         'portsweep': 2,\n",
       "         'saint': 1})"
      ]
     },
     "execution_count": 6,
     "metadata": {},
     "output_type": "execute_result"
    }
   ],
   "source": [
    "target = df[\"label\"][:].values\n",
    "from collections import Counter\n",
    "Counter(target)"
   ]
  },
  {
   "cell_type": "code",
   "execution_count": 7,
   "metadata": {},
   "outputs": [
    {
     "data": {
      "text/plain": [
       "'95.174236729151%'"
      ]
     },
     "execution_count": 7,
     "metadata": {},
     "output_type": "execute_result"
    }
   ],
   "source": [
    "str((39247/len(target))*100)+\"%\""
   ]
  },
  {
   "cell_type": "code",
   "execution_count": 8,
   "metadata": {},
   "outputs": [],
   "source": [
    "from sklearn.preprocessing import LabelEncoder\n",
    "encodings = dict()\n",
    "for c in df.columns:\n",
    "    if df[c].dtype == \"object\":\n",
    "        encodings[c] = LabelEncoder()\n",
    "        df[c] = encodings[c].fit_transform(df[c])"
   ]
  },
  {
   "cell_type": "code",
   "execution_count": 9,
   "metadata": {},
   "outputs": [
    {
     "name": "stdout",
     "output_type": "stream",
     "text": [
      "<class 'pandas.core.frame.DataFrame'>\n",
      "RangeIndex: 41237 entries, 0 to 41236\n",
      "Data columns (total 41 columns):\n",
      "duration                          41237 non-null int64\n",
      " \"protocol_type\"                  41237 non-null int64\n",
      " \"flag\"                           41237 non-null int64\n",
      " \"src_bytes\"                      41237 non-null int64\n",
      " \"dst_bytes\"                      41237 non-null int64\n",
      " \"land\"                           41237 non-null int64\n",
      " \"wrong_fragment\"                 41237 non-null int64\n",
      " \"urgent\"                         41237 non-null int64\n",
      "hot                               41237 non-null int64\n",
      " \"num_failed_logins\"              41237 non-null int64\n",
      " \"logged_in\"                      41237 non-null int64\n",
      " \"num_compromised\"                41237 non-null int64\n",
      " \"root_shell\"                     41237 non-null int64\n",
      " \"su_attempted\"                   41237 non-null int64\n",
      " \"num_root\"                       41237 non-null int64\n",
      " \"num_file_creations\"             41237 non-null int64\n",
      " \"num_shells\"                     41237 non-null int64\n",
      " \"num_access_files\"               41237 non-null int64\n",
      " \"num_outbound_cmds\"              41237 non-null int64\n",
      " \"is_host_login\"                  41237 non-null int64\n",
      "is_guest_login                    41237 non-null int64\n",
      " \"count\"                          41237 non-null int64\n",
      " \"srv_count\"                      41237 non-null int64\n",
      " \"serror_rate\"                    41237 non-null int64\n",
      " \"srv_serror_rate\"                41237 non-null int64\n",
      " \"rerror_rate\"                    41237 non-null int64\n",
      " \"srv_rerror_rate\"                41237 non-null int64\n",
      "same_srv_rate                     41237 non-null int64\n",
      " \"diff_srv_rate\"                  41237 non-null int64\n",
      " \"srv_diff_host_rate\"             41237 non-null int64\n",
      " \"dst_host_count\"                 41237 non-null int64\n",
      " \"dst_host_srv_count\"             41237 non-null int64\n",
      " \"dst_host_same_srv_rate\"         41237 non-null int64\n",
      " \"dst_host_diff_srv_rate\"         41237 non-null int64\n",
      " \"dst_host_same_src_port_rate\"    41237 non-null int64\n",
      " \"dst_host_srv_diff_host_rate\"    41237 non-null int64\n",
      "dst_host_serror_rate              41237 non-null int64\n",
      " \"dst_host_srv_serror_rate\"       41237 non-null int64\n",
      " \"dst_host_rerror_rate\"           41237 non-null int64\n",
      " \"dst_host_srv_rerror_rate\"       41237 non-null int64\n",
      "label                             41237 non-null int64\n",
      "dtypes: int64(41)\n",
      "memory usage: 12.9 MB\n"
     ]
    }
   ],
   "source": [
    "df.info()"
   ]
  },
  {
   "cell_type": "code",
   "execution_count": 10,
   "metadata": {},
   "outputs": [],
   "source": [
    "y = df.pop(\"label\").values\n",
    "X = df.values"
   ]
  },
  {
   "cell_type": "code",
   "execution_count": 11,
   "metadata": {},
   "outputs": [],
   "source": [
    "from sklearn.model_selection import train_test_split\n",
    "X_train, X_test, y_train, y_test = train_test_split(X, y, test_size=0.2, random_state=42)\n",
    "X_train, X_val, y_train, y_val = train_test_split(X_train, y_train, test_size=0.25, random_state=42)"
   ]
  },
  {
   "cell_type": "code",
   "execution_count": 12,
   "metadata": {},
   "outputs": [
    {
     "name": "stdout",
     "output_type": "stream",
     "text": [
      "(24741, 40)\n",
      "(24741,)\n",
      "(8248, 40)\n",
      "(8248,)\n",
      "(8248, 40)\n",
      "(8248,)\n"
     ]
    }
   ],
   "source": [
    "print(X_train.shape)\n",
    "print(y_train.shape)\n",
    "print(X_val.shape)\n",
    "print(y_val.shape)\n",
    "print(X_test.shape)\n",
    "print(y_test.shape)"
   ]
  },
  {
   "cell_type": "code",
   "execution_count": 70,
   "metadata": {},
   "outputs": [
    {
     "name": "stdout",
     "output_type": "stream",
     "text": [
      "total length =  8248\n",
      "Anomolies =  224\n",
      "Normal =  8024\n"
     ]
    },
    {
     "data": {
      "image/png": "[encoded data removed]",
      "text/plain": [
       "<Figure size 900x600 with 1 Axes>"
      ]
     },
     "metadata": {
      "needs_background": "light"
     },
     "output_type": "display_data"
    }
   ],
   "source": [
    "checking_occurences = [X for X in y_test if X == 1]\n",
    "print(\"total length = \",len(y_test))\n",
    "print(\"Anomolies = \",len(checking_occurences))\n",
    "print(\"Normal = \", (len(y_test) - len(checking_occurences)))\n",
    "n = len(y_test) - len(checking_occurences)\n",
    "a = len(checking_occurences)\n",
    "\n",
    "label = ['Normal', 'Anomaly']\n",
    "samples = [n, a]\n",
    "\n",
    "default_dpi = mpl.rcParamsDefault['figure.dpi']\n",
    "mpl.rcParams['figure.dpi'] = default_dpi * 1.5\n",
    "\n",
    "# this is for plotting purpose\n",
    "index = np.arange(len(label))\n",
    "plt.bar(index, samples)\n",
    "plt.xlabel('Payload Types', fontsize=10)\n",
    "plt.ylabel('Samples', fontsize=10)\n",
    "plt.xticks(index, label, fontsize=10, rotation=0)\n",
    "plt.title('Samples identified')\n",
    "plt.show()"
   ]
  },
  {
   "cell_type": "code",
   "execution_count": 13,
   "metadata": {},
   "outputs": [],
   "source": [
    "# to_model_columns=df.columns[1:41]\n",
    "from sklearn.ensemble import IsolationForest\n",
    "iForest = IsolationForest()\n",
    "# iForest.fit(df[to_model_columns])\n",
    "# pred = iForest.predict(df[to_model_columns])\n",
    "# df['anomaly']=pred\n",
    "# outliers=df.loc[df['anomaly']==-1]\n",
    "# outlier_index=list(outliers.index)\n",
    "# #print(outlier_index)\n",
    "# #Find the number of anomalies and normal points here points classified -1 are anomalous\n",
    "# print(df['anomaly'].value_counts())"
   ]
  },
  {
   "cell_type": "code",
   "execution_count": 14,
   "metadata": {},
   "outputs": [
    {
     "name": "stderr",
     "output_type": "stream",
     "text": [
      "/Users/abdulmajeedalroumi/anaconda3/lib/python3.6/site-packages/sklearn/ensemble/iforest.py:237: FutureWarning: default contamination parameter 0.1 will change in version 0.22 to \"auto\". This will change the predict method behavior.\n",
      "  FutureWarning)\n",
      "/Users/abdulmajeedalroumi/anaconda3/lib/python3.6/site-packages/sklearn/ensemble/iforest.py:247: FutureWarning: behaviour=\"old\" is deprecated and will be removed in version 0.22. Please use behaviour=\"new\", which makes the decision_function change to match other anomaly detection algorithm API.\n",
      "  FutureWarning)\n"
     ]
    },
    {
     "data": {
      "text/plain": [
       "IsolationForest(behaviour='old', bootstrap=False, contamination='legacy',\n",
       "                max_features=1.0, max_samples='auto', n_estimators=100,\n",
       "                n_jobs=None, random_state=None, verbose=0, warm_start=False)"
      ]
     },
     "execution_count": 14,
     "metadata": {},
     "output_type": "execute_result"
    }
   ],
   "source": [
    "iForest.fit(X_train)"
   ]
  },
  {
   "cell_type": "code",
   "execution_count": 15,
   "metadata": {},
   "outputs": [],
   "source": [
    "scores = iForest.decision_function(X_val)"
   ]
  },
  {
   "cell_type": "code",
   "execution_count": 16,
   "metadata": {},
   "outputs": [
    {
     "data": {
      "image/png": "[encoded data removed]",
      "text/plain": [
       "<Figure size 864x576 with 1 Axes>"
      ]
     },
     "metadata": {
      "needs_background": "light"
     },
     "output_type": "display_data"
    }
   ],
   "source": [
    "plt.figure(figsize=(12,8))\n",
    "plt.hist(scores, bins=100);"
   ]
  },
  {
   "cell_type": "code",
   "execution_count": 30,
   "metadata": {},
   "outputs": [],
   "source": [
    "cutoff = -0.07"
   ]
  },
  {
   "cell_type": "code",
   "execution_count": 32,
   "metadata": {},
   "outputs": [
    {
     "data": {
      "text/plain": [
       "Counter({3: 7871, 1: 199, 0: 165, 2: 13})"
      ]
     },
     "execution_count": 32,
     "metadata": {},
     "output_type": "execute_result"
    }
   ],
   "source": [
    "Counter(y_val)"
   ]
  },
  {
   "cell_type": "code",
   "execution_count": 37,
   "metadata": {},
   "outputs": [
    {
     "data": {
      "text/plain": [
       "Counter({0: 160, 1: 21, 2: 13, 3: 8})"
      ]
     },
     "execution_count": 37,
     "metadata": {},
     "output_type": "execute_result"
    }
   ],
   "source": [
    "Counter(y_val[cutoff>scores])"
   ]
  },
  {
   "cell_type": "code",
   "execution_count": 39,
   "metadata": {},
   "outputs": [],
   "source": [
    "from sklearn.metrics import roc_auc_score"
   ]
  },
  {
   "cell_type": "code",
   "execution_count": 49,
   "metadata": {},
   "outputs": [
    {
     "name": "stdout",
     "output_type": "stream",
     "text": [
      "96.88259094365812%\n"
     ]
    }
   ],
   "source": [
    "train_roc_auc_score = roc_auc_score((cutoff < scores), y_val == list(encodings[\"label\"].classes_).index(\"normal\"))\n",
    "print(str(train_roc_auc_score*100)+\"%\")"
   ]
  },
  {
   "cell_type": "code",
   "execution_count": 44,
   "metadata": {},
   "outputs": [],
   "source": [
    "score_test = iForest.decision_function(X_test)"
   ]
  },
  {
   "cell_type": "code",
   "execution_count": 45,
   "metadata": {},
   "outputs": [
    {
     "data": {
      "text/plain": [
       "Counter({3: 7847, 0: 152, 1: 224, 6: 1, 2: 22, 5: 1, 4: 1})"
      ]
     },
     "execution_count": 45,
     "metadata": {},
     "output_type": "execute_result"
    }
   ],
   "source": [
    "Counter(y_test)"
   ]
  },
  {
   "cell_type": "code",
   "execution_count": null,
   "metadata": {},
   "outputs": [],
   "source": []
  }
 ],
 "metadata": {
  "kernelspec": {
   "display_name": "Python 3",
   "language": "python",
   "name": "python3"
  },
  "language_info": {
   "codemirror_mode": {
    "name": "ipython",
    "version": 3
   },
   "file_extension": ".py",
   "mimetype": "text/x-python",
   "name": "python",
   "nbconvert_exporter": "python",
   "pygments_lexer": "ipython3",
   "version": "3.6.9"
  }
 },
 "nbformat": 4,
 "nbformat_minor": 2
}
